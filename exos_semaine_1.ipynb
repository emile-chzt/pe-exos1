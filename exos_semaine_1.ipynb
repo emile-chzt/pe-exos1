{
 "cells": [
  {
   "cell_type": "markdown",
   "id": "43844767",
   "metadata": {},
   "source": [
    "# exercice 1 : cadre"
   ]
  },
  {
   "cell_type": "code",
   "execution_count": 3,
   "id": "78c099be",
   "metadata": {},
   "outputs": [
    {
     "data": {
      "text/plain": [
       "'1.23.3'"
      ]
     },
     "execution_count": 3,
     "metadata": {},
     "output_type": "execute_result"
    }
   ],
   "source": [
    "import matplotlib.pyplot as plt \n",
    "import numpy as np\n",
    "np.__version__\n"
   ]
  },
  {
   "cell_type": "code",
   "execution_count": 4,
   "id": "f6e2464d",
   "metadata": {},
   "outputs": [
    {
     "data": {
      "image/png": "[encoded data removed]",
      "text/plain": [
       "<Figure size 640x480 with 1 Axes>"
      ]
     },
     "metadata": {},
     "output_type": "display_data"
    }
   ],
   "source": [
    "def square():\n",
    "    tab=np.ones((10,10))\n",
    "    tab=np.array(tab,dtype=bool)\n",
    "    plt.imshow(tab)\n",
    "    \n",
    "square()"
   ]
  },
  {
   "cell_type": "code",
   "execution_count": 5,
   "id": "31171bc9",
   "metadata": {},
   "outputs": [
    {
     "data": {
      "image/png": "[encoded data removed]",
      "text/plain": [
       "<Figure size 640x480 with 1 Axes>"
      ]
     },
     "metadata": {},
     "output_type": "display_data"
    }
   ],
   "source": [
    "def cadre(tab,inplace=True):\n",
    "    #on suppose que le tableau est au moins 2x2\n",
    "    if not inplace:\n",
    "        rep=np.copy(tab)\n",
    "    else: rep=tab\n",
    "    rep[(1,-2),:]=0\n",
    "    rep[:,(1,-2)]=0\n",
    "    return rep\n",
    "\n",
    "tab=np.ones((10,10))\n",
    "cadre(tab)\n",
    "plt.imshow(tab);\n"
   ]
  },
  {
   "cell_type": "code",
   "execution_count": 6,
   "id": "7503b252",
   "metadata": {},
   "outputs": [
    {
     "name": "stdout",
     "output_type": "stream",
     "text": [
      "[[ 8  0  7  2 15  1 14 19]\n",
      " [16  5 16 12  8 16  1 13]\n",
      " [11 13 18 14  2  7 16 13]\n",
      " [ 2 12  0  1 14  7 11  7]\n",
      " [12  9 15  4 16  0 14  0]\n",
      " [17  5 18 10 11 19  2 10]]\n",
      "[[ 8  0  7  2 15  1  0 19]\n",
      " [ 0  0  0  0  0  0  0  0]\n",
      " [11  0 18 14  2  7  0 13]\n",
      " [ 2  0  0  1 14  7  0  7]\n",
      " [ 0  0  0  0  0  0  0  0]\n",
      " [17  0 18 10 11 19  0 10]]\n",
      "[[ 8  0  7  2 15  1 14 19]\n",
      " [16  5 16 12  8 16  1 13]\n",
      " [11 13 18 14  2  7 16 13]\n",
      " [ 2 12  0  1 14  7 11  7]\n",
      " [12  9 15  4 16  0 14  0]\n",
      " [17  5 18 10 11 19  2 10]]\n"
     ]
    }
   ],
   "source": [
    "random=np.random.randint(0,20,size=(6,8),dtype='uint8')\n",
    "print(random)\n",
    "L=cadre(random,inplace=False)\n",
    "print(L)\n",
    "print(random)"
   ]
  },
  {
   "cell_type": "markdown",
   "id": "0ca759d8",
   "metadata": {},
   "source": [
    "on peut vérifier comment se comporte cadre avec un tableau trop petit, ou de type non entier"
   ]
  },
  {
   "cell_type": "markdown",
   "id": "8d0607c9",
   "metadata": {},
   "source": [
    "# exercice 2 : cadre 2"
   ]
  },
  {
   "cell_type": "code",
   "execution_count": 7,
   "id": "3d4e438c",
   "metadata": {},
   "outputs": [
    {
     "name": "stdout",
     "output_type": "stream",
     "text": [
      "[[ 0  0  0  0  0  0  0  0  0  0]\n",
      " [ 0  8  0  7  2 15  1 14 19  0]\n",
      " [ 0 16  5 16 12  8 16  1 13  0]\n",
      " [ 0 11 13 18 14  2  7 16 13  0]\n",
      " [ 0  2 12  0  1 14  7 11  7  0]\n",
      " [ 0 12  9 15  4 16  0 14  0  0]\n",
      " [ 0 17  5 18 10 11 19  2 10  0]\n",
      " [ 0  0  0  0  0  0  0  0  0  0]]\n"
     ]
    }
   ],
   "source": [
    "def cadre2(tab):\n",
    "    lignes,colonnes=np.shape(tab)\n",
    "    \n",
    "    c_ajout=np.zeros((1,colonnes))\n",
    "    A=np.insert(tab,0,c_ajout,axis=0)\n",
    "    A=np.insert(A,lignes+1,c_ajout,axis=0)\n",
    "    l_ajout=np.zeros(lignes+2)\n",
    "    A=np.insert(A,0,l_ajout,axis=1)\n",
    "    A=np.insert(A,colonnes+1,l_ajout,axis=1)\n",
    "    return A\n",
    "print(cadre2(random))\n"
   ]
  },
  {
   "cell_type": "markdown",
   "id": "b1b1c026",
   "metadata": {},
   "source": [
    "je vois difficilement comment modifier sur place le tableau car ni np.insert ni np.append ne le permettent."
   ]
  },
  {
   "cell_type": "markdown",
   "id": "af2dcbe5",
   "metadata": {},
   "source": [
    "# exercice 3 : anti diagonal"
   ]
  },
  {
   "cell_type": "code",
   "execution_count": 8,
   "id": "2631c436",
   "metadata": {},
   "outputs": [
    {
     "data": {
      "text/plain": [
       "array([[1.]])"
      ]
     },
     "execution_count": 8,
     "metadata": {},
     "output_type": "execute_result"
    }
   ],
   "source": [
    "def antidiagonal(list):\n",
    "    l=len(list)\n",
    "    mat=np.zeros((l,l))\n",
    "    j=l-1\n",
    "    for i in range(l):\n",
    "        mat[i,j]=list[i]\n",
    "        j=j-1\n",
    "    return mat\n",
    "\n",
    "list=[1]\n",
    "antidiagonal(list)"
   ]
  },
  {
   "cell_type": "code",
   "execution_count": 17,
   "id": "0f99f85b",
   "metadata": {},
   "outputs": [
    {
     "data": {
      "text/plain": [
       "array([[0, 0, 0, 0, 0],\n",
       "       [0, 0, 0, 1, 0],\n",
       "       [0, 0, 2, 0, 0],\n",
       "       [0, 3, 0, 0, 0],\n",
       "       [4, 0, 0, 0, 0]], dtype=uint8)"
      ]
     },
     "execution_count": 17,
     "metadata": {},
     "output_type": "execute_result"
    }
   ],
   "source": [
    "def antidiagonal_sans_zeros(list,dtype='uint8'):\n",
    "    l=len(list)\n",
    "    mat=np.empty((l,l),dtype=dtype)\n",
    "    j=l-1\n",
    "    for i in range(l):\n",
    "        mat[i,j]=list[i]\n",
    "        j=j-1\n",
    "    return mat\n",
    "\n",
    "list=range(5)\n",
    "antidiagonal_sans_zeros(list)"
   ]
  },
  {
   "cell_type": "markdown",
   "id": "dfe3b0e1",
   "metadata": {},
   "source": [
    "je n'ai pas trouvé comment  ne pas utiliser for"
   ]
  }
 ],
 "metadata": {
  "kernelspec": {
   "display_name": "Python 3 (ipykernel)",
   "language": "python",
   "name": "python3"
  },
  "language_info": {
   "codemirror_mode": {
    "name": "ipython",
    "version": 3
   },
   "file_extension": ".py",
   "mimetype": "text/x-python",
   "name": "python",
   "nbconvert_exporter": "python",
   "pygments_lexer": "ipython3",
   "version": "3.9.6"
  }
 },
 "nbformat": 4,
 "nbformat_minor": 5
}
